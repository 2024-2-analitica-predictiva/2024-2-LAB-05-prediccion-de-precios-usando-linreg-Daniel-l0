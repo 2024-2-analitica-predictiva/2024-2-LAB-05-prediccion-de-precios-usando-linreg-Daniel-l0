{
 "cells": [
  {
   "cell_type": "code",
   "execution_count": 43,
   "metadata": {},
   "outputs": [],
   "source": [
    "import pandas as pd\n",
    "from sklearn.pipeline import Pipeline\n",
    "from sklearn.compose import ColumnTransformer\n",
    "from sklearn.preprocessing import OneHotEncoder, MinMaxScaler\n",
    "from sklearn.feature_selection import SelectKBest, f_regression\n",
    "from sklearn.linear_model import LinearRegression\n",
    "from sklearn.model_selection import GridSearchCV\n",
    "from sklearn.metrics import median_absolute_error, mean_squared_error, r2_score\n",
    "import os\n",
    "import pickle\n",
    "import gzip\n",
    "import json\n"
   ]
  },
  {
   "cell_type": "code",
   "execution_count": 44,
   "metadata": {},
   "outputs": [],
   "source": [
    "# Paso 1.\n",
    "# Preprocese los datos.\n",
    "\n",
    "def preprocess_data(train_path, test_path):\n",
    "    train_df = pd.read_csv(train_path)\n",
    "    test_df = pd.read_csv(test_path)\n",
    "    \n",
    "    for df in [train_df, test_df]:\n",
    "        df['Age'] = 2021 - df['Year']\n",
    "        df.drop(['Year', 'Car_Name'], axis=1, inplace=True)\n",
    "    \n",
    "    return train_df, test_df\n",
    "\n",
    "train_path = '../files/input/train_data.csv.zip'\n",
    "test_path = '../files/input/test_data.csv.zip'\n",
    "\n",
    "\n",
    "train_df, test_df = preprocess_data(train_path, test_path)"
   ]
  },
  {
   "cell_type": "code",
   "execution_count": 45,
   "metadata": {},
   "outputs": [],
   "source": [
    "# Paso 2.\n",
    "# Divida los datasets en x_train, y_train, x_test, y_test.\n",
    "\n",
    "def split_data(train_df, test_df):\n",
    "    x_train = train_df.drop('Present_Price', axis=1)\n",
    "    y_train = train_df['Present_Price']\n",
    "    x_test = test_df.drop('Present_Price', axis=1)\n",
    "    y_test = test_df['Present_Price']\n",
    "     \n",
    "    return x_train, y_train, x_test, y_test\n",
    "\n",
    "x_train, y_train, x_test, y_test = split_data(train_df, test_df)"
   ]
  },
  {
   "cell_type": "code",
   "execution_count": 46,
   "metadata": {},
   "outputs": [],
   "source": [
    "# Paso 3.\n",
    "# Cree un pipeline para el modelo de clasificación.\n",
    "def build_pipeline():\n",
    "    numeric_features = ['Selling_Price', 'Driven_kms', 'Age', 'Owner']\n",
    "    categorical_features = ['Fuel_Type', 'Selling_type', 'Transmission']\n",
    "    \n",
    "    numeric_transformer = Pipeline(steps=[\n",
    "        ('scaler', MinMaxScaler())\n",
    "    ])\n",
    "    \n",
    "    categorical_transformer = Pipeline(steps=[\n",
    "        ('onehot', OneHotEncoder(handle_unknown='ignore'))\n",
    "    ])\n",
    "    \n",
    "    preprocessor = ColumnTransformer(\n",
    "        transformers=[\n",
    "            ('num', numeric_transformer, numeric_features),\n",
    "            ('cat', categorical_transformer, categorical_features)\n",
    "        ])\n",
    "    \n",
    "    pipeline = Pipeline(steps=[\n",
    "        ('preprocessor', preprocessor),\n",
    "        ('feature_selection', SelectKBest(score_func=f_regression)),\n",
    "        ('regressor', LinearRegression())\n",
    "    ])\n",
    "    \n",
    "    return pipeline\n",
    "\n",
    "pipeline = build_pipeline()"
   ]
  },
  {
   "cell_type": "code",
   "execution_count": 47,
   "metadata": {},
   "outputs": [],
   "source": [
    "# Paso 4.\n",
    "# Optimice los hiperparametros del pipeline usando validación cruzada.\n",
    "def optimize_hyperparameters(pipeline, x_train, y_train):\n",
    "    param_grid = {\n",
    "        'feature_selection__k': [5, 10, 'all']\n",
    "    }\n",
    "    \n",
    "    grid_search = GridSearchCV(pipeline, param_grid, cv=10, scoring='neg_mean_absolute_error')\n",
    "    grid_search.fit(x_train, y_train)\n",
    "    \n",
    "    return grid_search\n",
    "\n",
    "best_model = optimize_hyperparameters(pipeline, x_train, y_train)"
   ]
  },
  {
   "cell_type": "code",
   "execution_count": 48,
   "metadata": {},
   "outputs": [],
   "source": [
    "# Paso 5.\n",
    "# Guarde el modelo (comprimido con gzip) como \"files/models/model.pkl.gz\".\n",
    "def save_model(model):    \n",
    "    models_dir = '../files/models'\n",
    "    os.makedirs(models_dir, exist_ok=True)\n",
    "\n",
    "    with gzip.open(\"../files/models/model.pkl.gz\", \"wb\") as file:\n",
    "        pickle.dump(model, file)\n",
    "\n",
    "save_model(best_model)"
   ]
  },
  {
   "cell_type": "code",
   "execution_count": 49,
   "metadata": {},
   "outputs": [],
   "source": [
    "def calculate_metrics(model, x_train, y_train, x_test, y_test):\n",
    "    metrics = []\n",
    "    \n",
    "    for x, y, dataset_name in [(x_train, y_train, 'train'), (x_test, y_test, 'test')]:\n",
    "        y_pred = model.predict(x)\n",
    "        metrics.append({\n",
    "            'type': 'metrics',\n",
    "            'dataset': dataset_name,\n",
    "            'r2': r2_score(y, y_pred),\n",
    "            'mse': mean_squared_error(y, y_pred),\n",
    "            'mad': median_absolute_error(y, y_pred)\n",
    "        })\n",
    "    \n",
    "    return metrics\n",
    "\n",
    "metrics = calculate_metrics(best_model, x_train, y_train, x_test, y_test)"
   ]
  },
  {
   "cell_type": "code",
   "execution_count": 50,
   "metadata": {},
   "outputs": [],
   "source": [
    "def save_metrics(metrics):\n",
    "    metrics_path = \"../files/output/metrics.json\"\n",
    "    os.makedirs(\"../files/output\", exist_ok=True)\n",
    "    with open(metrics_path, 'w') as f:\n",
    "        for metric in metrics:\n",
    "            f.write(json.dumps(metric, ensure_ascii=False))\n",
    "            f.write('\\n')\n",
    "\n",
    "save_metrics(metrics)"
   ]
  }
 ],
 "metadata": {
  "kernelspec": {
   "display_name": ".venv",
   "language": "python",
   "name": "python3"
  },
  "language_info": {
   "codemirror_mode": {
    "name": "ipython",
    "version": 3
   },
   "file_extension": ".py",
   "mimetype": "text/x-python",
   "name": "python",
   "nbconvert_exporter": "python",
   "pygments_lexer": "ipython3",
   "version": "3.10.2"
  }
 },
 "nbformat": 4,
 "nbformat_minor": 2
}
